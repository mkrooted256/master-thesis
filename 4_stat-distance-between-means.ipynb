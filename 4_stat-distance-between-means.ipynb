{
 "cells": [
  {
   "cell_type": "code",
   "execution_count": 6,
   "id": "5d24cfcf",
   "metadata": {},
   "outputs": [],
   "source": [
    "import numpy as np\n",
    "import scipy as sp\n",
    "import sklearn as skl\n",
    "import skimage as ski\n",
    "import os\n",
    "from glob import glob\n",
    "from tqdm import tqdm\n",
    "from pathlib import Path\n",
    "import matplotlib.pyplot as plt\n",
    "\n",
    "import seaborn as sns"
   ]
  },
  {
   "cell_type": "code",
   "execution_count": 2,
   "id": "16aa54d5",
   "metadata": {},
   "outputs": [],
   "source": [
    "dataset = Path(\"Y:/kau/диплом/data/dataset\")\n",
    "workdir = Path(\"Y:/kau/диплом/data/run-normality\")"
   ]
  },
  {
   "cell_type": "code",
   "execution_count": 3,
   "id": "23ce8290",
   "metadata": {},
   "outputs": [
    {
     "data": {
      "text/plain": [
       "['hist_R1_P8_d',\n",
       " 'hist_R1_P8_u',\n",
       " 'hist_R2_P12_d',\n",
       " 'hist_R2_P12_u',\n",
       " 'hist_R3_P24_u',\n",
       " 'hist_R5_P36_u',\n",
       " 'reb_hist_R1_P8_d',\n",
       " 'reb_hist_R2_P12_d']"
      ]
     },
     "execution_count": 3,
     "metadata": {},
     "output_type": "execute_result"
    }
   ],
   "source": [
    "feature_paths = list(dataset.glob('hist_*')) + list(dataset.glob('reb_hist_*'))\n",
    "feature_names = [ fp.stem for fp in feature_paths]\n",
    "feature_names"
   ]
  },
  {
   "cell_type": "code",
   "execution_count": 4,
   "id": "ac0611d8",
   "metadata": {},
   "outputs": [],
   "source": [
    "features = [np.load(fp) for fp in feature_paths]"
   ]
  },
  {
   "cell_type": "code",
   "execution_count": 5,
   "id": "e69cb88e",
   "metadata": {},
   "outputs": [
    {
     "data": {
      "text/plain": [
       "(array([1, 2, 3]), array([ 1,  2,  3,  4,  5,  6,  7,  8,  9, 10, 11, 12, 13]))"
      ]
     },
     "execution_count": 5,
     "metadata": {},
     "output_type": "execute_result"
    }
   ],
   "source": [
    "labels = np.load(dataset / 'labels.npy')\n",
    "y_set, y_tex = labels.T\n",
    "unique_sets = np.unique(y_set)\n",
    "unique_texs = np.unique(y_tex)\n",
    "unique_sets, unique_texs"
   ]
  },
  {
   "cell_type": "code",
   "execution_count": 22,
   "id": "40d6867a",
   "metadata": {},
   "outputs": [],
   "source": [
    "# First feature\n",
    "X = features[0]\n",
    "X_cl = np.array([ X[y_tex == k] for k in unique_texs ])\n",
    "means = X_cl.mean(axis=1)"
   ]
  },
  {
   "cell_type": "code",
   "execution_count": 20,
   "id": "a909df5d",
   "metadata": {},
   "outputs": [],
   "source": [
    "def check_class_differ(means, unique_classes, alpha=0.05, method='log-likelihood'):\n",
    "    # for a single feature!\n",
    "\n",
    "    # how class j is similar to class i\n",
    "    n = means.shape[0] # number of classes\n",
    "\n",
    "    class_similarity = np.zeros((n,n), dtype=np.float64)\n",
    "    class_similarity_p = np.zeros((n,n), dtype=np.float64)\n",
    "\n",
    "    for c1 in range(n): \n",
    "        for c2 in range(n):\n",
    "            if c1 == c2: continue\n",
    "            stat, pval = sp.stats.power_divergence(f_obs=means[c2], f_exp=means[c1], lambda_=method)\n",
    "            class_similarity[c1,c2] = stat\n",
    "            class_similarity_p[c1,c2] = pval\n",
    "            \n",
    "            if pval > alpha:\n",
    "                print(f\"Class {unique_classes[c2]} is too close to {unique_classes[c1]}! P={pval:.3f}, stat={stat:.2f}\")\n",
    "\n",
    "    return class_similarity, class_similarity_p"
   ]
  },
  {
   "cell_type": "code",
   "execution_count": null,
   "id": "081b0d71",
   "metadata": {},
   "outputs": [],
   "source": [
    "def f_check_class_differ(feature, classes, unique_classes, alpha=0.05, method='log-likelihood'):\n",
    "    X_cl = np.array([ feature[classes == k] for k in unique_classes ])\n",
    "    means = X_cl.mean(axis=1)\n",
    "\n",
    "    S,P = check_class_differ(means, unique_classes, alpha, method)\n",
    "\n",
    "    P1 = P > alpha\n",
    "    Psym = P1 & P1.T\n",
    "    nclose = (np.triu(Psym>alpha) ).sum()\n",
    "    print(f\"> Found {nclose} class collisions\")\n",
    "\n",
    "    return S,P"
   ]
  },
  {
   "cell_type": "code",
   "execution_count": 56,
   "id": "030427e7",
   "metadata": {},
   "outputs": [
    {
     "name": "stdout",
     "output_type": "stream",
     "text": [
      "Log-likelihood distribution similarity\n",
      "Feature  hist_R1_P8_d .\n",
      "Class 4 is too close to 2! P=1.000, stat=131.72\n",
      "Class 7 is too close to 2! P=0.133, stat=280.19\n",
      "Class 2 is too close to 4! P=1.000, stat=130.90\n",
      "Class 2 is too close to 7! P=0.076, stat=288.02\n",
      "Class 11 is too close to 7! P=0.884, stat=228.30\n",
      "Class 13 is too close to 7! P=1.000, stat=177.84\n",
      "Class 7 is too close to 11! P=0.836, stat=232.87\n",
      "Class 13 is too close to 11! P=0.664, stat=244.89\n",
      "Class 7 is too close to 13! P=1.000, stat=177.25\n",
      "Class 11 is too close to 13! P=0.730, stat=240.74\n",
      "> Found 5 class collisions\n",
      "\n",
      "Feature  hist_R1_P8_u .\n",
      "> Found 0 class collisions\n",
      "\n",
      "Feature  hist_R2_P12_d .\n",
      "Class 5 is too close to 8! P=1.000, stat=3773.15\n",
      "Class 6 is too close to 8! P=0.992, stat=3879.95\n",
      "Class 9 is too close to 8! P=1.000, stat=1763.60\n",
      "Class 12 is too close to 8! P=1.000, stat=1939.90\n",
      "Class 8 is too close to 9! P=1.000, stat=1703.63\n",
      "> Found 1 class collisions\n",
      "\n",
      "Feature  hist_R2_P12_u .\n",
      "> Found 0 class collisions\n",
      "\n",
      "Feature  hist_R3_P24_u .\n",
      "> Found 0 class collisions\n",
      "\n",
      "Feature  hist_R5_P36_u .\n",
      "> Found 0 class collisions\n",
      "\n",
      "Feature  reb_hist_R1_P8_d .\n",
      "> Found 0 class collisions\n",
      "\n",
      "Feature  reb_hist_R2_P12_d .\n",
      "Class 4 is too close to 2! P=0.175, stat=101.36\n",
      "Class 2 is too close to 4! P=0.178, stat=101.16\n",
      "> Found 1 class collisions\n",
      "\n"
     ]
    }
   ],
   "source": [
    "print(\"Log-likelihood distribution similarity\")\n",
    "\n",
    "for f,fn in zip(features, feature_names):\n",
    "    print(\"Feature \", fn, \".\")\n",
    "    S,P = f_check_class_differ(f, y_tex, unique_texs)\n",
    "    print()"
   ]
  },
  {
   "cell_type": "code",
   "execution_count": 58,
   "id": "aa6205b5",
   "metadata": {},
   "outputs": [
    {
     "name": "stdout",
     "output_type": "stream",
     "text": [
      "Log-likelihood distribution similarity IN SUBSET 0\n",
      "Feature  hist_R1_P8_d .> Found 0 class collisions\n",
      "Feature  hist_R1_P8_u .> Found 0 class collisions\n",
      "Feature  hist_R2_P12_d .> Found 0 class collisions\n",
      "Feature  hist_R2_P12_u .> Found 0 class collisions\n",
      "Feature  hist_R3_P24_u .> Found 0 class collisions\n",
      "Feature  hist_R5_P36_u .> Found 0 class collisions\n",
      "Feature  reb_hist_R1_P8_d .> Found 0 class collisions\n",
      "Feature  reb_hist_R2_P12_d ."
     ]
    },
    {
     "name": "stderr",
     "output_type": "stream",
     "text": [
      "C:\\Users\\mkrooted\\AppData\\Local\\Temp\\ipykernel_17372\\1660817989.py:3: RuntimeWarning: Mean of empty slice.\n",
      "  means = X_cl.mean(axis=1)\n",
      "y:\\kau\\диплом\\.venv\\Lib\\site-packages\\numpy\\_core\\_methods.py:137: RuntimeWarning: invalid value encountered in divide\n",
      "  ret = um.true_divide(\n"
     ]
    },
    {
     "name": "stdout",
     "output_type": "stream",
     "text": [
      "> Found 0 class collisions\n",
      "Log-likelihood distribution similarity IN SUBSET 1\n",
      "Feature  hist_R1_P8_d .> Found 0 class collisions\n",
      "Feature  hist_R1_P8_u .> Found 0 class collisions\n",
      "Feature  hist_R2_P12_d .> Found 0 class collisions\n",
      "Feature  hist_R2_P12_u .> Found 0 class collisions\n",
      "Feature  hist_R3_P24_u .> Found 0 class collisions\n",
      "Feature  hist_R5_P36_u .> Found 0 class collisions\n",
      "Feature  reb_hist_R1_P8_d .> Found 0 class collisions\n",
      "Feature  reb_hist_R2_P12_d .> Found 0 class collisions\n",
      "Log-likelihood distribution similarity IN SUBSET 2\n",
      "Feature  hist_R1_P8_d .> Found 0 class collisions\n"
     ]
    },
    {
     "name": "stderr",
     "output_type": "stream",
     "text": [
      "y:\\kau\\диплом\\.venv\\Lib\\site-packages\\scipy\\stats\\_stats_py.py:7338: RuntimeWarning: divide by zero encountered in divide\n",
      "  terms = 2.0 * special.xlogy(f_obs, f_obs / f_exp)\n",
      "y:\\kau\\диплом\\.venv\\Lib\\site-packages\\scipy\\stats\\_stats_py.py:7338: RuntimeWarning: invalid value encountered in divide\n",
      "  terms = 2.0 * special.xlogy(f_obs, f_obs / f_exp)\n"
     ]
    },
    {
     "name": "stdout",
     "output_type": "stream",
     "text": [
      "Feature  hist_R1_P8_u .> Found 0 class collisions\n",
      "Feature  hist_R2_P12_d .> Found 0 class collisions\n",
      "Feature  hist_R2_P12_u .> Found 0 class collisions\n",
      "Feature  hist_R3_P24_u .> Found 0 class collisions\n",
      "Feature  hist_R5_P36_u .> Found 0 class collisions\n",
      "Feature  reb_hist_R1_P8_d .> Found 0 class collisions\n",
      "Feature  reb_hist_R2_P12_d .> Found 0 class collisions\n"
     ]
    }
   ],
   "source": [
    "for s in [0,1,2]:\n",
    "    print(f\"Log-likelihood distribution similarity IN SUBSET {s}\")\n",
    "\n",
    "    for f,fn in zip(features, feature_names):\n",
    "        f = f[y_set == s]\n",
    "        y = y_tex[y_set == s]\n",
    "        print(\"Feature \", fn, \".\", end='')\n",
    "        S,P = f_check_class_differ(f, y, unique_texs)\n",
    "        # print()"
   ]
  },
  {
   "cell_type": "code",
   "execution_count": null,
   "id": "25deff82",
   "metadata": {},
   "outputs": [],
   "source": []
  }
 ],
 "metadata": {
  "kernelspec": {
   "display_name": ".venv",
   "language": "python",
   "name": "python3"
  },
  "language_info": {
   "codemirror_mode": {
    "name": "ipython",
    "version": 3
   },
   "file_extension": ".py",
   "mimetype": "text/x-python",
   "name": "python",
   "nbconvert_exporter": "python",
   "pygments_lexer": "ipython3",
   "version": "3.13.1"
  }
 },
 "nbformat": 4,
 "nbformat_minor": 5
}
