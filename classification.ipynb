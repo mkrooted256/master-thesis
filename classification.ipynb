{
 "cells": [
  {
   "cell_type": "code",
   "execution_count": 1,
   "id": "9689584f",
   "metadata": {},
   "outputs": [],
   "source": [
    "import numpy as np\n",
    "import scipy as sp\n",
    "import sklearn as skl\n",
    "import skimage as ski\n",
    "import os\n",
    "from glob import glob\n",
    "from tqdm import tqdm\n",
    "from pathlib import Path\n",
    "import matplotlib.pyplot as plt\n",
    "\n",
    "import seaborn as sns"
   ]
  },
  {
   "cell_type": "code",
   "execution_count": 3,
   "id": "0bb724ee",
   "metadata": {},
   "outputs": [],
   "source": [
    "dataset = Path(\"Y:/kau/диплом/data/dataset\")\n",
    "workdir = Path(\"Y:/kau/диплом/data/run-classification\")"
   ]
  },
  {
   "cell_type": "code",
   "execution_count": 4,
   "id": "de493caf",
   "metadata": {},
   "outputs": [
    {
     "data": {
      "text/plain": [
       "['hist_R1_P8_d',\n",
       " 'hist_R1_P8_u',\n",
       " 'hist_R2_P12_d',\n",
       " 'hist_R2_P12_u',\n",
       " 'hist_R3_P24_u',\n",
       " 'hist_R5_P36_u',\n",
       " 'reb_hist_R1_P8_d',\n",
       " 'reb_hist_R2_P12_d']"
      ]
     },
     "execution_count": 4,
     "metadata": {},
     "output_type": "execute_result"
    }
   ],
   "source": [
    "feature_paths = list(dataset.glob('hist_*')) + list(dataset.glob('reb_hist_*'))\n",
    "feature_names = [ fp.stem for fp in feature_paths]\n",
    "feature_names"
   ]
  },
  {
   "cell_type": "code",
   "execution_count": 5,
   "id": "fe19a498",
   "metadata": {},
   "outputs": [],
   "source": [
    "features = [np.load(fp) for fp in feature_paths]"
   ]
  },
  {
   "cell_type": "code",
   "execution_count": 6,
   "id": "b831e64f",
   "metadata": {},
   "outputs": [
    {
     "data": {
      "text/plain": [
       "(array([1, 2, 3]), array([ 1,  2,  3,  4,  5,  6,  7,  8,  9, 10, 11, 12, 13]))"
      ]
     },
     "execution_count": 6,
     "metadata": {},
     "output_type": "execute_result"
    }
   ],
   "source": [
    "labels = np.load(dataset / 'labels.npy')\n",
    "y_set, y_tex = labels.T\n",
    "unique_sets = np.unique(y_set)\n",
    "unique_texs = np.unique(y_tex)\n",
    "unique_sets, unique_texs"
   ]
  },
  {
   "cell_type": "code",
   "execution_count": 12,
   "id": "3132a9c1",
   "metadata": {},
   "outputs": [
    {
     "data": {
      "text/plain": [
       "array([0.05921336, 0.05921336])"
      ]
     },
     "execution_count": 12,
     "metadata": {},
     "output_type": "execute_result"
    }
   ],
   "source": [
    "A = np.array([10,10,10,10,10,10,10])\n",
    "B = np.array([10,10,20,20,10,20,10])\n"
   ]
  },
  {
   "cell_type": "code",
   "execution_count": 13,
   "id": "eeff5fd3",
   "metadata": {},
   "outputs": [],
   "source": [
    "def build_classifier_klmean(X, y, unique_y):\n",
    "    X_cl = np.array([ X[y == k] for k in unique_y ])\n",
    "    means = X_cl.mean(axis=1)\n",
    "    \n",
    "    def classify(x):\n",
    "        # x is a single vector\n",
    "        distances = sp.stats.entropy(x, means, axis=1)\n",
    "        return unique_y[np.argmin(distances)]\n",
    "\n",
    "    return classify"
   ]
  },
  {
   "cell_type": "code",
   "execution_count": 15,
   "id": "ab61ade8",
   "metadata": {},
   "outputs": [
    {
     "data": {
      "text/plain": [
       "((1170, 256), (1170,))"
      ]
     },
     "execution_count": 15,
     "metadata": {},
     "output_type": "execute_result"
    }
   ],
   "source": [
    "X = features[0]\n",
    "\n",
    "X_train, X_test, y_train, y_test = skl.model_selection.train_test_split(X, y_tex, test_size=0.4, random_state=2222, stratify=y_tex)\n",
    "X_train.shape, y_train.shape"
   ]
  },
  {
   "cell_type": "code",
   "execution_count": 39,
   "id": "5e526e53",
   "metadata": {},
   "outputs": [
    {
     "name": "stdout",
     "output_type": "stream",
     "text": [
      "hist_R1_P8_d - precision 0.81\n",
      "hist_R1_P8_u - precision 0.50\n",
      "hist_R2_P12_d - precision 0.59\n",
      "hist_R2_P12_u - precision 0.55\n",
      "hist_R3_P24_u - precision 0.60\n",
      "hist_R5_P36_u - precision 0.61\n",
      "reb_hist_R1_P8_d - precision 0.80\n",
      "reb_hist_R2_P12_d - precision 0.81\n"
     ]
    }
   ],
   "source": [
    "for f,fn in zip(features, feature_names):\n",
    "    X_train, X_test, y_train, y_test = skl.model_selection.train_test_split(f, y_tex, test_size=0.4, stratify=y_tex)\n",
    "    C = build_classifier_klmean(X_train, y_train, unique_texs)\n",
    "    y_pred = np.array([ C(x) for x in X_test ])\n",
    "    confusion = skl.metrics.confusion_matrix(y_test, y_pred)\n",
    "    precision = skl.metrics.precision_score(y_test, y_pred, average='macro')\n",
    "\n",
    "    fig = plt.figure()\n",
    "    sns.heatmap(confusion, annot=confusion, xticklabels=unique_texs, yticklabels=unique_texs)\n",
    "    fig.savefig(f'plots/confusion/{fn}.png')\n",
    "    plt.close()\n",
    "\n",
    "    print(f\"{fn} - precision {precision:.2f}\")"
   ]
  },
  {
   "cell_type": "code",
   "execution_count": null,
   "id": "21d71913",
   "metadata": {},
   "outputs": [
    {
     "name": "stdout",
     "output_type": "stream",
     "text": [
      "hist_R1_P8_d - subset 1 - precision 0.79\n",
      "hist_R1_P8_u - subset 1 - precision 0.88\n"
     ]
    },
    {
     "name": "stderr",
     "output_type": "stream",
     "text": [
      "y:\\kau\\диплом\\.venv\\Lib\\site-packages\\sklearn\\metrics\\_classification.py:1565: UndefinedMetricWarning: Precision is ill-defined and being set to 0.0 in labels with no predicted samples. Use `zero_division` parameter to control this behavior.\n",
      "  _warn_prf(average, modifier, f\"{metric.capitalize()} is\", len(result))\n"
     ]
    },
    {
     "name": "stdout",
     "output_type": "stream",
     "text": [
      "hist_R2_P12_d - subset 1 - precision 0.00\n",
      "hist_R2_P12_u - subset 1 - precision 0.86\n",
      "hist_R3_P24_u - subset 1 - precision 0.92\n",
      "hist_R5_P36_u - subset 1 - precision 0.89\n",
      "reb_hist_R1_P8_d - subset 1 - precision 0.94\n",
      "reb_hist_R2_P12_d - subset 1 - precision 0.98\n"
     ]
    }
   ],
   "source": [
    "s = 1\n",
    "for f,fn in zip(features, feature_names):\n",
    "    f = f[y_set == s]\n",
    "    y = y_tex[y_set == s]\n",
    "\n",
    "    X_train, X_test, y_train, y_test = skl.model_selection.train_test_split(f, y, test_size=0.4, stratify=y)\n",
    "    C = build_classifier_klmean(X_train, y_train, unique_texs)\n",
    "    y_pred = np.array([ C(x) for x in X_test ])\n",
    "    confusion = skl.metrics.confusion_matrix(y_test, y_pred)\n",
    "    precision = skl.metrics.precision_score(y_test, y_pred, average='macro')\n",
    "\n",
    "    fig = plt.figure()\n",
    "    sns.heatmap(confusion, annot=confusion, xticklabels=unique_texs, yticklabels=unique_texs)\n",
    "    fig.savefig(f'plots/confusion/subset{s}-{fn}.png')\n",
    "    plt.close()\n",
    "\n",
    "    print(f\"{fn} - subset {s} - precision {precision:.2f}\")"
   ]
  },
  {
   "cell_type": "code",
   "execution_count": 61,
   "id": "120cb3cc",
   "metadata": {},
   "outputs": [
    {
     "name": "stdout",
     "output_type": "stream",
     "text": [
      "0.6 train 1 test 2 - hist_R1_P8_d - precision 0.86\n",
      "0.6 train 1 test 2 - hist_R1_P8_u - precision 0.85\n",
      "0.6 train 1 test 2 - hist_R2_P12_d - precision 0.26\n",
      "0.6 train 1 test 2 - hist_R2_P12_u - precision 0.85\n",
      "0.6 train 1 test 2 - hist_R3_P24_u - precision 0.87\n",
      "0.6 train 1 test 2 - hist_R5_P36_u - precision 0.89\n",
      "0.6 train 1 test 2 - reb_hist_R1_P8_d - precision 0.95\n",
      "0.6 train 1 test 2 - reb_hist_R2_P12_d - precision 0.97\n"
     ]
    }
   ],
   "source": [
    "for f,fn in zip(features, feature_names):\n",
    "    X_train = f[y_set == 1]\n",
    "    y_train = y_tex[y_set == 1]\n",
    "    X_test = f[y_set == 2]\n",
    "    y_test = y_tex[y_set == 2]\n",
    "\n",
    "    # select random subset of an image\n",
    "    X_train_1, _, y_train_1, _ = skl.model_selection.train_test_split(X_train, y_train, test_size=0.4, stratify=y_train)\n",
    "    \n",
    "    \n",
    "    C = build_classifier_klmean(X_train_1, y_train_1, unique_texs)\n",
    "    y_pred = np.array([ C(x) for x in X_test ])\n",
    "    confusion = skl.metrics.confusion_matrix(y_test, y_pred)\n",
    "    precision = skl.metrics.precision_score(y_test, y_pred, average='macro', zero_division=0.0)\n",
    "\n",
    "    fig = plt.figure()\n",
    "    sns.heatmap(confusion, annot=confusion, xticklabels=unique_texs, yticklabels=unique_texs)\n",
    "    fig.savefig(f'plots/confusion/sep-{fn}.png')\n",
    "    plt.close()\n",
    "\n",
    "    print(f\"0.6 train 1 test 2 - {fn} - precision {precision:.2f}\")"
   ]
  },
  {
   "cell_type": "code",
   "execution_count": 62,
   "id": "b89bafc3",
   "metadata": {},
   "outputs": [
    {
     "name": "stdout",
     "output_type": "stream",
     "text": [
      "0.6 train 1 test 3 - hist_R1_P8_d - precision 0.23\n",
      "0.6 train 1 test 3 - hist_R1_P8_u - precision 0.07\n",
      "0.6 train 1 test 3 - hist_R2_P12_d - precision 0.00\n",
      "0.6 train 1 test 3 - hist_R2_P12_u - precision 0.13\n",
      "0.6 train 1 test 3 - hist_R3_P24_u - precision 0.07\n",
      "0.6 train 1 test 3 - hist_R5_P36_u - precision 0.09\n",
      "0.6 train 1 test 3 - reb_hist_R1_P8_d - precision 0.15\n",
      "0.6 train 1 test 3 - reb_hist_R2_P12_d - precision 0.36\n"
     ]
    }
   ],
   "source": [
    "for f,fn in zip(features, feature_names):\n",
    "    X_train = f[y_set == 1]\n",
    "    y_train = y_tex[y_set == 1]\n",
    "    X_test = f[y_set == 3]\n",
    "    y_test = y_tex[y_set == 3]\n",
    "\n",
    "    # select random subset of an image\n",
    "    X_train, _, y_train, _ = skl.model_selection.train_test_split(X_train, y_train, test_size=0.4, stratify=y_train)\n",
    "    \n",
    "    C = build_classifier_klmean(X_train, y_train, unique_texs)\n",
    "    y_pred = np.array([ C(x) for x in X_test ])\n",
    "    confusion = skl.metrics.confusion_matrix(y_test, y_pred)\n",
    "    precision = skl.metrics.precision_score(y_test, y_pred, average='macro', zero_division=0.0)\n",
    "\n",
    "    fig = plt.figure()\n",
    "    sns.heatmap(confusion, annot=confusion, xticklabels=unique_texs, yticklabels=unique_texs)\n",
    "    fig.savefig(f'plots/confusion/sep-{fn}.png')\n",
    "    plt.close()\n",
    "\n",
    "    print(f\"0.6 train 1 test 3 - {fn} - precision {precision:.2f}\")"
   ]
  },
  {
   "cell_type": "markdown",
   "id": "83b67fea",
   "metadata": {},
   "source": [
    "# KNN"
   ]
  },
  {
   "cell_type": "code",
   "execution_count": 44,
   "id": "59d4b7bd",
   "metadata": {},
   "outputs": [],
   "source": [
    "def build_classifier_knn(X, y, unique_y):\n",
    "    knn = skl.neighbors.KNeighborsClassifier(n_neighbors=3, metric='l2')\n",
    "    knn.fit(X, y)\n",
    "\n",
    "    def classify(x):\n",
    "        # x is an arraylike\n",
    "        return knn.predict(x)\n",
    "\n",
    "    return classify"
   ]
  },
  {
   "cell_type": "code",
   "execution_count": 45,
   "id": "c18a8ba3",
   "metadata": {},
   "outputs": [
    {
     "name": "stdout",
     "output_type": "stream",
     "text": [
      "hist_R1_P8_d - precision 0.98\n",
      "hist_R1_P8_u - precision 0.95\n",
      "hist_R2_P12_d - precision 0.98\n",
      "hist_R2_P12_u - precision 0.98\n",
      "hist_R3_P24_u - precision 0.97\n",
      "hist_R5_P36_u - precision 0.93\n",
      "reb_hist_R1_P8_d - precision 0.97\n",
      "reb_hist_R2_P12_d - precision 0.97\n"
     ]
    }
   ],
   "source": [
    "for f,fn in zip(features, feature_names):\n",
    "    X_train, X_test, y_train, y_test = skl.model_selection.train_test_split(f, y_tex, test_size=0.4, stratify=y_tex)\n",
    "    C = build_classifier_knn(X_train, y_train, unique_texs)\n",
    "    y_pred = C(X_test)\n",
    "    confusion = skl.metrics.confusion_matrix(y_test, y_pred)\n",
    "    precision = skl.metrics.precision_score(y_test, y_pred, average='macro')\n",
    "\n",
    "    fig = plt.figure()\n",
    "    sns.heatmap(confusion, annot=confusion, xticklabels=unique_texs, yticklabels=unique_texs)\n",
    "    fig.savefig(f'plots/confusion/knn-{fn}.png')\n",
    "    plt.close()\n",
    "\n",
    "    print(f\"{fn} - precision {precision:.2f}\")"
   ]
  },
  {
   "cell_type": "code",
   "execution_count": 43,
   "id": "575a6cea",
   "metadata": {},
   "outputs": [
    {
     "name": "stdout",
     "output_type": "stream",
     "text": [
      "hist_R1_P8_d - subset 1 - precision 0.97\n",
      "hist_R1_P8_u - subset 1 - precision 0.93\n",
      "hist_R2_P12_d - subset 1 - precision 0.98\n",
      "hist_R2_P12_u - subset 1 - precision 0.93\n",
      "hist_R3_P24_u - subset 1 - precision 0.95\n",
      "hist_R5_P36_u - subset 1 - precision 0.91\n",
      "reb_hist_R1_P8_d - subset 1 - precision 0.97\n",
      "reb_hist_R2_P12_d - subset 1 - precision 0.97\n"
     ]
    }
   ],
   "source": [
    "s = 1\n",
    "for f,fn in zip(features, feature_names):\n",
    "    f = f[y_set == s]\n",
    "    y = y_tex[y_set == s]\n",
    "\n",
    "    X_train, X_test, y_train, y_test = skl.model_selection.train_test_split(f, y, test_size=0.4, stratify=y)\n",
    "    C = build_classifier_knn(X_train, y_train, unique_texs)\n",
    "    y_pred = C(X_test)\n",
    "    confusion = skl.metrics.confusion_matrix(y_test, y_pred)\n",
    "    precision = skl.metrics.precision_score(y_test, y_pred, average='macro')\n",
    "\n",
    "    fig = plt.figure()\n",
    "    sns.heatmap(confusion, annot=confusion, xticklabels=unique_texs, yticklabels=unique_texs)\n",
    "    fig.savefig(f'plots/confusion/knn-subset{s}-{fn}.png')\n",
    "    plt.close()\n",
    "\n",
    "    print(f\"{fn} - subset {s} - precision {precision:.2f}\")"
   ]
  },
  {
   "cell_type": "code",
   "execution_count": 69,
   "id": "f123ef9c",
   "metadata": {},
   "outputs": [
    {
     "name": "stdout",
     "output_type": "stream",
     "text": [
      "0.6 KNN train 1 test 2 - hist_R1_P8_d - precision 0.98\n",
      "0.6 KNN train 1 test 2 - hist_R1_P8_u - precision 0.91\n",
      "0.6 KNN train 1 test 2 - hist_R2_P12_d - precision 0.99\n",
      "0.6 KNN train 1 test 2 - hist_R2_P12_u - precision 0.96\n",
      "0.6 KNN train 1 test 2 - hist_R3_P24_u - precision 0.91\n",
      "0.6 KNN train 1 test 2 - hist_R5_P36_u - precision 0.75\n",
      "0.6 KNN train 1 test 2 - reb_hist_R1_P8_d - precision 0.99\n",
      "0.6 KNN train 1 test 2 - reb_hist_R2_P12_d - precision 0.99\n"
     ]
    }
   ],
   "source": [
    "for f,fn in zip(features, feature_names):\n",
    "    X_train = f[y_set == 1]\n",
    "    y_train = y_tex[y_set == 1]\n",
    "    X_test = f[y_set == 2]\n",
    "    y_test = y_tex[y_set == 2]\n",
    "    \n",
    "    # select random subset of an image\n",
    "    X_train, _, y_train, _ = skl.model_selection.train_test_split(X_train, y_train, test_size=0.4, stratify=y_train)\n",
    "\n",
    "    C = build_classifier_knn(X_train, y_train, unique_texs)\n",
    "    y_pred = C(X_test)\n",
    "    confusion = skl.metrics.confusion_matrix(y_test, y_pred)\n",
    "    precision = skl.metrics.precision_score(y_test, y_pred, average='macro')\n",
    "\n",
    "    fig = plt.figure()\n",
    "    sns.heatmap(confusion, annot=confusion, xticklabels=unique_texs, yticklabels=unique_texs)\n",
    "    fig.savefig(f'plots/confusion/knn-{fn}.png')\n",
    "    plt.close()\n",
    "\n",
    "    print(f\"0.6 KNN train 1 test 2 - {fn} - precision {precision:.2f}\")"
   ]
  },
  {
   "cell_type": "code",
   "execution_count": 70,
   "id": "ddbbab9f",
   "metadata": {},
   "outputs": [
    {
     "name": "stdout",
     "output_type": "stream",
     "text": [
      "0.6 KNN train 1 test 3 - hist_R1_P8_d - precision 0.24\n",
      "0.6 KNN train 1 test 3 - hist_R1_P8_u - precision 0.19\n",
      "0.6 KNN train 1 test 3 - hist_R2_P12_d - precision 0.20\n",
      "0.6 KNN train 1 test 3 - hist_R2_P12_u - precision 0.16\n",
      "0.6 KNN train 1 test 3 - hist_R3_P24_u - precision 0.06\n",
      "0.6 KNN train 1 test 3 - hist_R5_P36_u - precision 0.14\n",
      "0.6 KNN train 1 test 3 - reb_hist_R1_P8_d - precision 0.31\n",
      "0.6 KNN train 1 test 3 - reb_hist_R2_P12_d - precision 0.27\n"
     ]
    }
   ],
   "source": [
    "for f,fn in zip(features, feature_names):\n",
    "    X_train = f[y_set == 1]\n",
    "    y_train = y_tex[y_set == 1]\n",
    "    X_test = f[y_set == 3]\n",
    "    y_test = y_tex[y_set == 3]\n",
    "\n",
    "    # select random subset of an image\n",
    "    X_train, _, y_train, _ = skl.model_selection.train_test_split(X_train, y_train, test_size=0.4, stratify=y_train)\n",
    "\n",
    "    C = build_classifier_knn(X_train, y_train, unique_texs)\n",
    "    y_pred = C(X_test)\n",
    "    confusion = skl.metrics.confusion_matrix(y_test, y_pred)\n",
    "    precision = skl.metrics.precision_score(y_test, y_pred, average='macro', zero_division=0.0)\n",
    "\n",
    "    fig = plt.figure()\n",
    "    sns.heatmap(confusion, annot=confusion, xticklabels=unique_texs, yticklabels=unique_texs)\n",
    "    fig.savefig(f'plots/confusion/knn-{fn}.png')\n",
    "    plt.close()\n",
    "\n",
    "    print(f\"0.6 KNN train 1 test 3 - {fn} - precision {precision:.2f}\")"
   ]
  },
  {
   "cell_type": "code",
   "execution_count": 55,
   "id": "4e5324dd",
   "metadata": {},
   "outputs": [
    {
     "data": {
      "text/plain": [
       "0.07692307692307693"
      ]
     },
     "execution_count": 55,
     "metadata": {},
     "output_type": "execute_result"
    }
   ],
   "source": [
    "1/13"
   ]
  },
  {
   "cell_type": "code",
   "execution_count": null,
   "id": "0599cc48",
   "metadata": {},
   "outputs": [],
   "source": []
  }
 ],
 "metadata": {
  "kernelspec": {
   "display_name": ".venv",
   "language": "python",
   "name": "python3"
  },
  "language_info": {
   "codemirror_mode": {
    "name": "ipython",
    "version": 3
   },
   "file_extension": ".py",
   "mimetype": "text/x-python",
   "name": "python",
   "nbconvert_exporter": "python",
   "pygments_lexer": "ipython3",
   "version": "3.13.1"
  }
 },
 "nbformat": 4,
 "nbformat_minor": 5
}
