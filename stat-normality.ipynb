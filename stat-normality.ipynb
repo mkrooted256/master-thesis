{
 "cells": [
  {
   "cell_type": "code",
   "execution_count": 1,
   "id": "7f8b8376",
   "metadata": {},
   "outputs": [],
   "source": [
    "import numpy as np\n",
    "import scipy as sp\n",
    "import sklearn as skl\n",
    "import skimage as ski\n",
    "import os\n",
    "from glob import glob\n",
    "from tqdm import tqdm\n",
    "from pathlib import Path\n",
    "import matplotlib.pyplot as plt"
   ]
  },
  {
   "cell_type": "code",
   "execution_count": 2,
   "id": "bcb2c217",
   "metadata": {},
   "outputs": [],
   "source": [
    "dataset = Path(\"Y:/kau/диплом/data/dataset\")\n",
    "workdir = Path(\"Y:/kau/диплом/data/run-normality\")"
   ]
  },
  {
   "cell_type": "code",
   "execution_count": 5,
   "id": "8a9d1a29",
   "metadata": {},
   "outputs": [
    {
     "data": {
      "text/plain": [
       "['hist_R1_P8_d',\n",
       " 'hist_R1_P8_u',\n",
       " 'hist_R2_P12_d',\n",
       " 'hist_R2_P12_u',\n",
       " 'hist_R3_P24_u',\n",
       " 'hist_R5_P36_u',\n",
       " 'reb_hist_R1_P8_d',\n",
       " 'reb_hist_R2_P12_d']"
      ]
     },
     "execution_count": 5,
     "metadata": {},
     "output_type": "execute_result"
    }
   ],
   "source": [
    "feature_paths = list(dataset.glob('hist_*')) + list(dataset.glob('reb_hist_*'))\n",
    "feature_names = [ fp.stem for fp in feature_paths]\n",
    "feature_names"
   ]
  },
  {
   "cell_type": "code",
   "execution_count": 6,
   "id": "7a4d6127",
   "metadata": {},
   "outputs": [],
   "source": [
    "features = [np.load(fp) for fp in feature_paths]"
   ]
  },
  {
   "cell_type": "code",
   "execution_count": 9,
   "id": "f5f83e70",
   "metadata": {},
   "outputs": [
    {
     "data": {
      "text/plain": [
       "(array([1, 2, 3]), array([ 1,  2,  3,  4,  5,  6,  7,  8,  9, 10, 11, 12, 13]))"
      ]
     },
     "execution_count": 9,
     "metadata": {},
     "output_type": "execute_result"
    }
   ],
   "source": [
    "labels = np.load(dataset / 'labels.npy')\n",
    "y_set, y_tex = labels.T\n",
    "unique_sets = np.unique(y_set)\n",
    "unique_texs = np.unique(y_tex)\n",
    "unique_sets, unique_texs"
   ]
  },
  {
   "cell_type": "code",
   "execution_count": 13,
   "id": "1c7d732e",
   "metadata": {},
   "outputs": [],
   "source": [
    "def mean_within_classes(feature, classes, unique_classes):\n",
    "    X_cl = np.array([ feature[classes == k] for k in unique_classes ])\n",
    "    assert X_cl.shape[0] == len(unique_classes)\n",
    "    assert X_cl.shape[2] == feature.shape[1]\n",
    "    return X_cl.mean(axis=1)\n"
   ]
  },
  {
   "cell_type": "code",
   "execution_count": 31,
   "id": "fe2a6a90",
   "metadata": {},
   "outputs": [],
   "source": [
    "def check_normality(feature, classes, unique_classes, alpha=0.05):\n",
    "    X_cl = np.array([ feature[classes == k] for k in unique_classes ])\n",
    "    means = X_cl.mean(axis=1)\n",
    "    deltas = np.array([ X_cl[k] - means[k] for k in range(unique_classes.shape[0]) ])\n",
    "\n",
    "    n_notnormal = []\n",
    "    for k in range(unique_classes.shape[0]):\n",
    "        s, pvals = sp.stats.shapiro(deltas[k], axis=0)\n",
    "        n_notnormal.append((pvals < alpha).sum())\n",
    "    \n",
    "    median_notnormality = np.median(n_notnormal) / feature.shape[1]\n",
    "    # print(f\"On median across all classes, {median_notnormality*100:.2f}% of features are likely NOT normal\")\n",
    "    return median_notnormality"
   ]
  },
  {
   "cell_type": "code",
   "execution_count": null,
   "id": "4e609667",
   "metadata": {},
   "outputs": [
    {
     "name": "stdout",
     "output_type": "stream",
     "text": [
      "Using Shapiro-Wilks test of normality for each descriptor\n",
      "Feature 'hist_R1_P8_d      ': 82.03% features likely not normal\n",
      "Feature 'hist_R1_P8_u      ': 90.00% features likely not normal\n",
      "Feature 'hist_R2_P12_d     ': "
     ]
    },
    {
     "name": "stderr",
     "output_type": "stream",
     "text": [
      "y:\\kau\\диплом\\.venv\\Lib\\site-packages\\scipy\\stats\\_axis_nan_policy.py:657: UserWarning: scipy.stats.shapiro: Input data has range zero. The results may not be accurate.\n",
      "  return result_to_tuple(hypotest_fun_out(*samples, **kwds), n_out)\n"
     ]
    },
    {
     "name": "stdout",
     "output_type": "stream",
     "text": [
      "98.22% features likely not normal\n",
      "Feature 'hist_R2_P12_u     ': 71.43% features likely not normal\n",
      "Feature 'hist_R3_P24_u     ': 80.77% features likely not normal\n",
      "Feature 'hist_R5_P36_u     ': 86.84% features likely not normal\n",
      "Feature 'reb_hist_R1_P8_d  ': 54.69% features likely not normal\n",
      "Feature 'reb_hist_R2_P12_d ': 65.56% features likely not normal\n"
     ]
    }
   ],
   "source": [
    "print(\"Using Shapiro-Wilks test of normality for each descriptor\")\n",
    "for f,fn in zip(features, feature_names):\n",
    "    print(f\"Feature '{fn:18}': \", end='')\n",
    "    median_notnormality = check_normality(f, y_tex, unique_texs)\n",
    "    print(f\"{median_notnormality*100:5.2f}% features likely not normal\")"
   ]
  },
  {
   "cell_type": "code",
   "execution_count": 44,
   "id": "2de7cd48",
   "metadata": {},
   "outputs": [
    {
     "name": "stdout",
     "output_type": "stream",
     "text": [
      "Using Shapiro-Wilks test of normality for each descriptor CONSIDERING SUBSETS\n",
      "[(325, 256), (325, 10), (325, 4096), (325, 14), (325, 26), (325, 38), (325, 64), (325, 90)]\n",
      "(325,)\n",
      "[(325, 256), (325, 10), (325, 4096), (325, 14), (325, 26), (325, 38), (325, 64), (325, 90)]\n",
      "(325,)\n",
      "[(1300, 256), (1300, 10), (1300, 4096), (1300, 14), (1300, 26), (1300, 38), (1300, 64), (1300, 90)]\n",
      "(1300,)\n"
     ]
    }
   ],
   "source": [
    "print(\"Using Shapiro-Wilks test of normality for each descriptor CONSIDERING SUBSETS\")\n",
    "\n",
    "subsets = [[f[y_set==ks] for f in features] for ks in unique_sets]\n",
    "subset_ys = [y_tex[y_set==ks] for ks in unique_sets]\n",
    "\n",
    "for s,y in zip(subsets,subset_ys):\n",
    "    print([ss.shape for ss in s])\n",
    "    print(y.shape)"
   ]
  },
  {
   "cell_type": "code",
   "execution_count": 45,
   "id": "d5ad2198",
   "metadata": {},
   "outputs": [
    {
     "name": "stdout",
     "output_type": "stream",
     "text": [
      "Using Shapiro-Wilks test of normality for each descriptor CONSIDERING SUBSETS\n",
      "SUBSET  1\n",
      "Feature 'hist_R1_P8_d      ' in set 1: 37.50% features likely not normal\n",
      "Feature 'hist_R1_P8_u      ' in set 1: 10.00% features likely not normal\n",
      "Feature 'hist_R2_P12_d     ' in set 1: "
     ]
    },
    {
     "name": "stderr",
     "output_type": "stream",
     "text": [
      "y:\\kau\\диплом\\.venv\\Lib\\site-packages\\scipy\\stats\\_axis_nan_policy.py:657: UserWarning: scipy.stats.shapiro: Input data has range zero. The results may not be accurate.\n",
      "  return result_to_tuple(hypotest_fun_out(*samples, **kwds), n_out)\n"
     ]
    },
    {
     "name": "stdout",
     "output_type": "stream",
     "text": [
      "67.46% features likely not normal\n",
      "Feature 'hist_R2_P12_u     ' in set 1:  7.14% features likely not normal\n",
      "Feature 'hist_R3_P24_u     ' in set 1:  7.69% features likely not normal\n",
      "Feature 'hist_R5_P36_u     ' in set 1: 23.68% features likely not normal\n",
      "Feature 'reb_hist_R1_P8_d  ' in set 1: 12.50% features likely not normal\n",
      "Feature 'reb_hist_R2_P12_d ' in set 1: 11.11% features likely not normal\n",
      "\n",
      "SUBSET  2\n",
      "Feature 'hist_R1_P8_d      ' in set 2: 37.50% features likely not normal\n",
      "Feature 'hist_R1_P8_u      ' in set 2: 10.00% features likely not normal\n",
      "Feature 'hist_R2_P12_d     ' in set 2: 67.72% features likely not normal\n",
      "Feature 'hist_R2_P12_u     ' in set 2:  7.14% features likely not normal\n",
      "Feature 'hist_R3_P24_u     ' in set 2:  7.69% features likely not normal\n",
      "Feature 'hist_R5_P36_u     ' in set 2: 23.68% features likely not normal\n",
      "Feature 'reb_hist_R1_P8_d  ' in set 2: 12.50% features likely not normal\n",
      "Feature 'reb_hist_R2_P12_d ' in set 2: 12.22% features likely not normal\n",
      "\n",
      "SUBSET  3\n",
      "Feature 'hist_R1_P8_d      ' in set 3: 57.03% features likely not normal\n",
      "Feature 'hist_R1_P8_u      ' in set 3: 10.00% features likely not normal\n",
      "Feature 'hist_R2_P12_d     ' in set 3: 96.61% features likely not normal\n",
      "Feature 'hist_R2_P12_u     ' in set 3:  7.14% features likely not normal\n",
      "Feature 'hist_R3_P24_u     ' in set 3:  7.69% features likely not normal\n",
      "Feature 'hist_R5_P36_u     ' in set 3: 23.68% features likely not normal\n",
      "Feature 'reb_hist_R1_P8_d  ' in set 3: 18.75% features likely not normal\n",
      "Feature 'reb_hist_R2_P12_d ' in set 3: 25.56% features likely not normal\n",
      "\n"
     ]
    }
   ],
   "source": [
    "print(\"Using Shapiro-Wilks test of normality for each descriptor CONSIDERING SUBSETS\")\n",
    "\n",
    "for subset_features, y, s in zip(subsets, subset_ys, unique_sets):\n",
    "    print(\"SUBSET \", s)\n",
    "    for f, fn in zip(subset_features, feature_names):\n",
    "        print(f\"Feature '{fn:18}' in set {s}: \", end='')\n",
    "        median_notnormality = check_normality(f, y, unique_texs)\n",
    "        print(f\"{median_notnormality*100:5.2f}% features likely not normal\")\n",
    "    print()"
   ]
  }
 ],
 "metadata": {
  "kernelspec": {
   "display_name": ".venv",
   "language": "python",
   "name": "python3"
  },
  "language_info": {
   "codemirror_mode": {
    "name": "ipython",
    "version": 3
   },
   "file_extension": ".py",
   "mimetype": "text/x-python",
   "name": "python",
   "nbconvert_exporter": "python",
   "pygments_lexer": "ipython3",
   "version": "3.13.1"
  }
 },
 "nbformat": 4,
 "nbformat_minor": 5
}
